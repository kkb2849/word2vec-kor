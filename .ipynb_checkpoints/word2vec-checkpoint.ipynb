{
 "cells": [
  {
   "cell_type": "code",
   "execution_count": 1,
   "metadata": {
    "collapsed": true
   },
   "outputs": [],
   "source": [
    "import gensim\n",
    "import re\n",
    "from konlpy.tag import Twitter\n",
    "\n",
    "MINIMUM_SENTENCE_LENGTH = 3\n",
    "\n",
    "input_file_name=\"/mnt/data/test_data/parsed_namuwiki.txt\"\n",
    "output_file_name=\"/mnt/data/test_data/korean_sentences_for_word2vec.txt\""
   ]
  },
  {
   "cell_type": "code",
   "execution_count": 2,
   "metadata": {
    "collapsed": false
   },
   "outputs": [],
   "source": [
    "ex_hangul = re.compile('[^ ㄱ-ㅣ가-힣|.]+') # 한글과 띄어쓰기를 제외한 모든 글자\n",
    "ex_split_sentence = ['',' ']\n",
    "def map_hangul(str):  #한글만 추출하는 메소드\n",
    "    str = str.replace('_',' ')\n",
    "    str = ex_hangul.sub('',str)\n",
    "    str = str.replace('  ',' ')\n",
    "    return str\n",
    "\n",
    "def split_sentence(str): #마침표로 문장을 나누고, 빈 문장을 제거하는 메소드\n",
    "    sentence_arr = str.split('.')\n",
    "    return list(filter(lambda x: x not in ex_split_sentence, sentence_arr))\n",
    "    "
   ]
  },
  {
   "cell_type": "code",
   "execution_count": null,
   "metadata": {
    "collapsed": false
   },
   "outputs": [
    {
     "name": "stdout",
     "output_type": "stream",
     "text": [
      "step: 5000\n",
      "step: 10000\n",
      "step: 15000\n",
      "step: 20000\n",
      "step: 25000\n",
      "step: 30000\n",
      "step: 35000\n",
      "step: 40000\n",
      "step: 45000\n",
      "step: 50000\n",
      "step: 55000\n",
      "step: 60000\n",
      "step: 65000\n",
      "step: 70000\n",
      "step: 75000\n",
      "step: 80000\n",
      "step: 85000\n",
      "step: 90000\n"
     ]
    }
   ],
   "source": [
    "#문장 전처리\n",
    "\n",
    "twitter_nlp = Twitter()\n",
    "output_file = open(output_file_name, \"w\")\n",
    "sentence_noun_arr = []\n",
    "index = 0\n",
    "\n",
    "with open(input_file_name, \"r\") as f:\n",
    "    while True:\n",
    "        line = f.readline()\n",
    "        if not line:\n",
    "            break\n",
    "        \n",
    "        index += 1\n",
    "        if index % 5000 == 0:\n",
    "            print('step:',index)\n",
    "\n",
    "        tmp_sentences = split_sentence(map_hangul(line)) #한글 추출, 라인 split\n",
    "        for sentence in tmp_sentences:\n",
    "            tmp_noun_arr = twitter_nlp.nouns(sentence) #명사 추출\n",
    "            if len(tmp_noun_arr) > MINIMUM_SENTENCE_LENGTH:\n",
    "                output_file.write(' '.join(tmp_noun_arr)+'\\n')\n",
    "                sentence_noun_arr.append(tmp_noun_arr)\n",
    "\n",
    "output_file.close()\n",
    "print(sentence_noun_arr[:10])"
   ]
  },
  {
   "cell_type": "code",
   "execution_count": 22,
   "metadata": {
    "collapsed": false
   },
   "outputs": [
    {
     "name": "stdout",
     "output_type": "stream",
     "text": [
      "['가', '나', '다']\n"
     ]
    }
   ],
   "source": [
    "a = \"가.나.다\"\n",
    "print(a.split('.'))"
   ]
  },
  {
   "cell_type": "code",
   "execution_count": null,
   "metadata": {
    "collapsed": false
   },
   "outputs": [],
   "source": [
    "#word2vec 학습\n",
    "\n",
    "# model = gensim.models.Word2Vec(size=300, window=5, min_count=50, workers=2)\n",
    "# model.build_vocab(sentence_noun_arr)\n",
    "# model.train(sentence_noun_arr)\n",
    "# model.save('dict_data/w2v_model_wiki_kor')"
   ]
  },
  {
   "cell_type": "code",
   "execution_count": null,
   "metadata": {
    "collapsed": false
   },
   "outputs": [],
   "source": [
    "print(model.wv.similarity('미국', '일본'))\n",
    "print(model.wv.most_similar(positive=['문재인', '박근혜'], negative=['노무현']))\n",
    "print(model.wv.doesnt_match(twitter.nouns('박근혜는 가나다를 좋아한다')))\n",
    "# model.score([twitter.nouns('박근혜는 가나다를 좋아한다')])"
   ]
  },
  {
   "cell_type": "code",
   "execution_count": null,
   "metadata": {
    "collapsed": true
   },
   "outputs": [],
   "source": [
    "new_model = gensim.models.Word2Vec.load('dict_data/w2v_model_wiki_kor')"
   ]
  },
  {
   "cell_type": "code",
   "execution_count": null,
   "metadata": {
    "collapsed": false
   },
   "outputs": [],
   "source": [
    "print(new_model.wv.similarity('미국', '일본'))"
   ]
  },
  {
   "cell_type": "code",
   "execution_count": null,
   "metadata": {
    "collapsed": true
   },
   "outputs": [],
   "source": []
  }
 ],
 "metadata": {
  "kernelspec": {
   "display_name": "Python 3",
   "language": "python",
   "name": "python3"
  },
  "language_info": {
   "codemirror_mode": {
    "name": "ipython",
    "version": 3
   },
   "file_extension": ".py",
   "mimetype": "text/x-python",
   "name": "python",
   "nbconvert_exporter": "python",
   "pygments_lexer": "ipython3",
   "version": "3.5.3"
  }
 },
 "nbformat": 4,
 "nbformat_minor": 2
}
