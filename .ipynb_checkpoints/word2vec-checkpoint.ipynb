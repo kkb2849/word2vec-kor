{
 "cells": [
  {
   "cell_type": "code",
   "execution_count": 1,
   "metadata": {
    "collapsed": true
   },
   "outputs": [],
   "source": [
    "import gensim\n",
    "import re\n",
    "filename=\"/mnt/data/test_data/wiki_ko.txt\""
   ]
  },
  {
   "cell_type": "code",
   "execution_count": 2,
   "metadata": {
    "collapsed": false
   },
   "outputs": [],
   "source": [
    "ex_hangul = re.compile('[^ ㄱ-ㅣ가-힣|.]+') # 한글과 띄어쓰기를 제외한 모든 글자\n",
    "ex_split_sentence = ['',' ']\n",
    "def map_hangul(str):\n",
    "    str = str.replace('_',' ')\n",
    "    str = ex_hangul.sub('',str)\n",
    "    str = str.replace('  ',' ')\n",
    "    return str\n",
    "\n",
    "def split_sentence(str):\n",
    "    sentence_arr = str.split('.')\n",
    "    return list(filter(lambda x: x not in ex_split_sentence, sentence_arr))\n",
    "    "
   ]
  },
  {
   "cell_type": "code",
   "execution_count": 4,
   "metadata": {
    "collapsed": false
   },
   "outputs": [
    {
     "name": "stdout",
     "output_type": "stream",
     "text": [
      "[[' 동화사'], ['동화사'], ['동화사는 대한민국 대구광역시 동구 도학동에 있는 절이다', ' 대한불교 조계종 경북 대 본산 중의 하나이자 대한불교 조계종 제교구 본사이다'], ['동화사사적비년에 따르면 신라 소지왕 년년에 극달 화상이 유가사라는 이름으로 처음 지은 것을 흥덕왕 년년 심지조사가 중창하면서 지금의 이름으로 바꾸었다고 한다', ' 동화사라는 이름은 중창할 당시 겨울인데도 오동나무가 꽃을 피운 것을 보고 상서로운 징조로 여긴 심지조사가 붙인 이름이라고 한다'], ['삼국유사세기에는 진표로부터 불골간자를 이어받은 영심이 다시 심지조사에게 간자 두 개를 전했고 심지조사가 그것을 봉안할 땅을 찾고자 중악의 두 신과 함께 산꼭대기에 올라가 서쪽을 향해 던지니 간자가 곧 바람에 날려 날아갔고 간자가 떨어진 곳이 동화사 참당의 북쪽에 있는 작은 우물이었다', ' 그리고 심지조사는 그곳에 강당을 지어 간자를 봉안했다고 한다']]\n"
     ]
    }
   ],
   "source": [
    "sentence_arr = []\n",
    "with open(filename, \"r\") as f:\n",
    "    while True:\n",
    "        line = f.readline()\n",
    "        if not line:\n",
    "            break\n",
    "        tmp_sentences = split_sentence(map_hangul(line))\n",
    "        if len(tmp_sentences) > 0:\n",
    "            sentence_arr.append(tmp_sentences)\n",
    "print(sentence_arr[:5])"
   ]
  },
  {
   "cell_type": "code",
   "execution_count": null,
   "metadata": {
    "collapsed": false
   },
   "outputs": [],
   "source": [
    "from konlpy.tag import Twitter #명사 추출을 위함\n",
    "MINIMUM_SENTENCE_LENGTH = 3\n",
    "\n",
    "twitter = Twitter()\n",
    "sentence_noun_arr = []\n",
    "\n",
    "for sentence in sentence_arr:\n",
    "    tmp_noun_arr = twitter.nouns(sentence[0])\n",
    "    if len(tmp_noun_arr) > MINIMUM_SENTENCE_LENGTH:\n",
    "        sentence_noun_arr.append(tmp_noun_arr)\n",
    "print(sentence_noun_arr[:5])"
   ]
  },
  {
   "cell_type": "code",
   "execution_count": null,
   "metadata": {
    "collapsed": true
   },
   "outputs": [],
   "source": [
    "model = gensim.models.Word2Vec(size=100, window=5, min_count=5, workers=2)\n",
    "model.build_vocab(sentence_noun_arr)\n",
    "# model.save('dict_data/w2v_model')"
   ]
  },
  {
   "cell_type": "code",
   "execution_count": null,
   "metadata": {
    "collapsed": true
   },
   "outputs": [],
   "source": []
  }
 ],
 "metadata": {
  "kernelspec": {
   "display_name": "Python 3",
   "language": "python",
   "name": "python3"
  },
  "language_info": {
   "codemirror_mode": {
    "name": "ipython",
    "version": 3
   },
   "file_extension": ".py",
   "mimetype": "text/x-python",
   "name": "python",
   "nbconvert_exporter": "python",
   "pygments_lexer": "ipython3",
   "version": "3.5.3"
  }
 },
 "nbformat": 4,
 "nbformat_minor": 2
}
