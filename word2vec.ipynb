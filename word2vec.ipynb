{
 "cells": [
  {
   "cell_type": "code",
   "execution_count": null,
   "metadata": {
    "collapsed": true
   },
   "outputs": [],
   "source": [
    "import gensim\n",
    "import re\n",
    "from konlpy.tag import Twitter\n",
    "\n",
    "MINIMUM_SENTENCE_LENGTH = 3\n",
    "\n",
    "input_file_name=\"/mnt/data/test_data/wiki_ko.txt\"\n",
    "output_file_name=\"/mnt/data/test_data/korean_sentences_for_word2vec.txt\""
   ]
  },
  {
   "cell_type": "code",
   "execution_count": null,
   "metadata": {
    "collapsed": false
   },
   "outputs": [],
   "source": [
    "ex_hangul = re.compile('[^ ㄱ-ㅣ가-힣|.]+') # 한글과 띄어쓰기를 제외한 모든 글자\n",
    "ex_split_sentence = ['',' ']\n",
    "def map_hangul(str):  #한글만 추출하는 메소드\n",
    "    str = str.replace('_',' ')\n",
    "    str = ex_hangul.sub('',str)\n",
    "    str = str.replace('  ',' ')\n",
    "    return str\n",
    "\n",
    "def split_sentence(str): #마침표로 문장을 나누고, 빈 문장을 제거하는 메소드\n",
    "    sentence_arr = str.split('.')\n",
    "    return list(filter(lambda x: x not in ex_split_sentence, sentence_arr))\n",
    "    "
   ]
  },
  {
   "cell_type": "code",
   "execution_count": null,
   "metadata": {
    "collapsed": false
   },
   "outputs": [],
   "source": [
    "#문장 전처리\n",
    "import time\n",
    "start = int(time.time())\n",
    "\n",
    "twitter_nlp = Twitter()\n",
    "output_file = open(output_file_name, \"a\")\n",
    "index = 0\n",
    "\n",
    "with open(input_file_name, \"r\") as f:\n",
    "    while True:\n",
    "        try:\n",
    "            line = f.readline()\n",
    "            if not line:\n",
    "                break\n",
    "\n",
    "            index += 1\n",
    "            if index % 100000 == 0:\n",
    "                print('step:',index)\n",
    "\n",
    "            tmp_sentences = split_sentence(map_hangul(line)) #한글 추출, 라인 split\n",
    "            for sentence in tmp_sentences:\n",
    "                tmp_noun_arr = twitter_nlp.nouns(sentence) #명사 추출\n",
    "                if len(tmp_noun_arr) > MINIMUM_SENTENCE_LENGTH:\n",
    "                    output_file.write(' '.join(tmp_noun_arr)+'\\n')\n",
    "        except Exception as e:\n",
    "            print(e)\n",
    "\n",
    "output_file.close()\n",
    "end = int(time.time())\n",
    "print(end-start)"
   ]
  },
  {
   "cell_type": "code",
   "execution_count": 1,
   "metadata": {
    "collapsed": false
   },
   "outputs": [],
   "source": [
    "import gensim\n",
    "\n",
    "#word2vec 학습\n",
    "def iter_file(file_name):\n",
    "    with open(file_name, 'r') as f:\n",
    "        while True:\n",
    "            line = f.readline()\n",
    "            if not line:\n",
    "                break;\n",
    "            yield line.replace('\\n','').split(' ')\n",
    "    \n",
    "it = iter_file('/mnt/data/test_data/korean_sentences_for_word2vec.txt')\n",
    "\n",
    "model = gensim.models.Word2Vec(size=300, window=5, min_count=50, workers=2)\n",
    "model.build_vocab(it)\n",
    "model.save('dict_data/kor_w2v_model')"
   ]
  },
  {
   "cell_type": "code",
   "execution_count": 2,
   "metadata": {
    "collapsed": true
   },
   "outputs": [],
   "source": [
    "it = iter_file('/mnt/data/test_data/korean_sentences_for_word2vec.txt')\n",
    "model.train(it)\n",
    "model.save('dict_data/kor_w2v_model_trained')"
   ]
  },
  {
   "cell_type": "code",
   "execution_count": 7,
   "metadata": {
    "collapsed": false
   },
   "outputs": [
    {
     "name": "stdout",
     "output_type": "stream",
     "text": [
      "0.29413325883\n",
      "[('김무성', 0.6947234869003296), ('안철수', 0.6834571957588196), ('원내대표', 0.6675081253051758), ('이정희', 0.6563081741333008), ('김한길', 0.6384867429733276), ('심상정', 0.6365790367126465), ('추미애', 0.6296842098236084), ('김종인', 0.6270934343338013), ('강기갑', 0.621680736541748), ('한명숙', 0.6175681352615356)]\n",
      "[('파이어뱃', 0.4452653229236603), ('벌처', 0.42615044116973877), ('인베이더', 0.4211110472679138), ('장경환', 0.4169806241989136), ('배너티', 0.41055530309677124), ('어썰트', 0.40961235761642456), ('선호산', 0.40626388788223267), ('칠리치', 0.4044717848300934), ('트데드', 0.40154731273651123), ('드랍쉽', 0.40134942531585693)]\n"
     ]
    }
   ],
   "source": [
    "print(model.wv.similarity('미국', '일본'))\n",
    "print(model.wv.most_similar(positive=['문재인', '박근혜'], negative=['노무현']))\n",
    "print(model.wv.most_similar(positive=['테란', '마린'], negative=['프로토스']))"
   ]
  },
  {
   "cell_type": "code",
   "execution_count": null,
   "metadata": {
    "collapsed": true
   },
   "outputs": [],
   "source": [
    "# new_model = gensim.models.Word2Vec.load('dict_data/w2v_model_wiki_kor')"
   ]
  }
 ],
 "metadata": {
  "kernelspec": {
   "display_name": "Python 3",
   "language": "python",
   "name": "python3"
  },
  "language_info": {
   "codemirror_mode": {
    "name": "ipython",
    "version": 3
   },
   "file_extension": ".py",
   "mimetype": "text/x-python",
   "name": "python",
   "nbconvert_exporter": "python",
   "pygments_lexer": "ipython3",
   "version": "3.5.3"
  }
 },
 "nbformat": 4,
 "nbformat_minor": 2
}
