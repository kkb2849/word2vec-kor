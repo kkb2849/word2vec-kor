{
 "cells": [
  {
   "cell_type": "code",
   "execution_count": null,
   "metadata": {
    "collapsed": true
   },
   "outputs": [],
   "source": [
    "import gensim\n",
    "import re\n",
    "from konlpy.tag import Twitter\n",
    "\n",
    "MINIMUM_SENTENCE_LENGTH = 3\n",
    "\n",
    "input_file_name=\"/mnt/data/test_data/parsed_namuwiki.txt\"\n",
    "output_file_name=\"/mnt/data/test_data/korean_sentences_for_word2vec.txt\""
   ]
  },
  {
   "cell_type": "code",
   "execution_count": null,
   "metadata": {
    "collapsed": false
   },
   "outputs": [],
   "source": [
    "ex_hangul = re.compile('[^ ㄱ-ㅣ가-힣|.]+') # 한글과 띄어쓰기를 제외한 모든 글자\n",
    "ex_split_sentence = ['',' ']\n",
    "def map_hangul(str):  #한글만 추출하는 메소드\n",
    "    str = str.replace('_',' ')\n",
    "    str = ex_hangul.sub('',str)\n",
    "    str = str.replace('  ',' ')\n",
    "    return str\n",
    "\n",
    "def split_sentence(str): #마침표로 문장을 나누고, 빈 문장을 제거하는 메소드\n",
    "    sentence_arr = str.split('.')\n",
    "    return list(filter(lambda x: x not in ex_split_sentence, sentence_arr))\n",
    "    "
   ]
  },
  {
   "cell_type": "code",
   "execution_count": null,
   "metadata": {
    "collapsed": false
   },
   "outputs": [],
   "source": [
    "#문장 전처리\n",
    "import time\n",
    "start = int(time.time())\n",
    "\n",
    "twitter_nlp = Twitter()\n",
    "output_file = open(output_file_name, \"a\")\n",
    "index = 0\n",
    "\n",
    "with open(input_file_name, \"r\") as f:\n",
    "    while True:\n",
    "        try:\n",
    "            line = f.readline()\n",
    "            if not line:\n",
    "                break\n",
    "\n",
    "            index += 1\n",
    "            if index % 100000 == 0:\n",
    "                print('step:',index)\n",
    "\n",
    "            if index < 8818461:\n",
    "                continue\n",
    "\n",
    "            tmp_sentences = split_sentence(map_hangul(line)) #한글 추출, 라인 split\n",
    "            for sentence in tmp_sentences:\n",
    "                tmp_noun_arr = twitter_nlp.nouns(sentence) #명사 추출\n",
    "                if len(tmp_noun_arr) > MINIMUM_SENTENCE_LENGTH:\n",
    "                    output_file.write(' '.join(tmp_noun_arr)+'\\n')\n",
    "        except Exception as e:\n",
    "            print(e)\n",
    "\n",
    "output_file.close()\n",
    "end = int(time.time())\n",
    "print(end-start)"
   ]
  },
  {
   "cell_type": "code",
   "execution_count": null,
   "metadata": {
    "collapsed": false
   },
   "outputs": [],
   "source": [
    "# sentence_arr = []\n",
    "# index = 0\n",
    "# with open(\"/mnt/data/test_data/korean_sentences_for_word2vec.txt\", \"r\") as f:\n",
    "#     while True:\n",
    "#         line = f.readline()\n",
    "#         if not line:\n",
    "#             break\n",
    "#         sentence_arr.append(line.replace('\\n','').split(' '))\n",
    "#         if index %100000 == 0:\n",
    "#             print('step:',index)\n",
    "#         index+=1\n",
    "# print(sentence_arr[:5])\n",
    "# print(len(sentence_arr))"
   ]
  },
  {
   "cell_type": "code",
   "execution_count": 1,
   "metadata": {
    "collapsed": false
   },
   "outputs": [
    {
     "name": "stdout",
     "output_type": "stream",
     "text": [
      "['신', '세계', '수의', '미궁', '에서', '앗']\n",
      "['세계', '수의', '미궁', '시리즈', '전통', '대사']\n",
      "['세계', '수의', '미궁', '제왕', '성배', '편', '제왕', '성배', '사망', '플래그', '예시']\n",
      "['세계', '수의', '모험가', '탐험', '던전', '수해', '구석구석', '채취', '벌채', '채굴', '포인트', '채집', '스킬', '투자', '채집', '기회', '이득', '수']\n"
     ]
    }
   ],
   "source": [
    "import gensim\n",
    "\n",
    "#word2vec 학습\n",
    "def iter_file(file_name):\n",
    "    with open(file_name, 'r') as f:\n",
    "        while True:\n",
    "            line = f.readline()\n",
    "            if not line:\n",
    "                break;\n",
    "            yield line.replace('\\n','').split(' ')\n",
    "    \n",
    "it = iter_file('/mnt/data/test_data/k_old.txt')\n",
    "\n",
    "for index, sentences in enumerate(it):\n",
    "    if(index>3):\n",
    "        break;\n",
    "    print(sentences)\n",
    "    \n",
    "it = iter_file('/mnt/data/test_data/korean_sentences_for_word2vec.txt')\n",
    "\n",
    "model = gensim.models.Word2Vec(size=300, window=5, min_count=50, workers=16)\n",
    "model.build_vocab(it)\n",
    "# model.build_vocab(sentence_noun_arr)\n",
    "# model.train(sentence_noun_arr)\n",
    "# model.save('dict_data/w2v_model_namu_wiki')"
   ]
  },
  {
   "cell_type": "code",
   "execution_count": 2,
   "metadata": {
    "collapsed": true
   },
   "outputs": [],
   "source": [
    "model.save('dict_data/w2v_model_namu_wiki')"
   ]
  },
  {
   "cell_type": "code",
   "execution_count": 4,
   "metadata": {
    "collapsed": true
   },
   "outputs": [],
   "source": [
    "it = iter_file('/mnt/data/test_data/korean_sentences_for_word2vec.txt')\n",
    "model.train(it)\n",
    "model.save('dict_data/w2v_model_namu_wiki_trained')"
   ]
  },
  {
   "cell_type": "code",
   "execution_count": 3,
   "metadata": {
    "collapsed": false
   },
   "outputs": [
    {
     "name": "stdout",
     "output_type": "stream",
     "text": [
      "0.0195867269259\n",
      "[('성추행', 0.2544581890106201), ('루비콘', 0.23318515717983246), ('장달', 0.22647807002067566), ('천마로', 0.2210080623626709), ('쌕', 0.2178162932395935), ('싱커', 0.2175203263759613), ('타케오', 0.21739909052848816), ('조동혁', 0.21614503860473633), ('효산', 0.21403838694095612), ('친목단체', 0.21241718530654907)]\n"
     ]
    },
    {
     "ename": "NameError",
     "evalue": "name 'twitter' is not defined",
     "output_type": "error",
     "traceback": [
      "\u001b[0;31m---------------------------------------------------------------------------\u001b[0m",
      "\u001b[0;31mNameError\u001b[0m                                 Traceback (most recent call last)",
      "\u001b[0;32m<ipython-input-3-85486c0dc85d>\u001b[0m in \u001b[0;36m<module>\u001b[0;34m()\u001b[0m\n\u001b[1;32m      1\u001b[0m \u001b[0mprint\u001b[0m\u001b[0;34m(\u001b[0m\u001b[0mmodel\u001b[0m\u001b[0;34m.\u001b[0m\u001b[0mwv\u001b[0m\u001b[0;34m.\u001b[0m\u001b[0msimilarity\u001b[0m\u001b[0;34m(\u001b[0m\u001b[0;34m'미국'\u001b[0m\u001b[0;34m,\u001b[0m \u001b[0;34m'일본'\u001b[0m\u001b[0;34m)\u001b[0m\u001b[0;34m)\u001b[0m\u001b[0;34m\u001b[0m\u001b[0m\n\u001b[1;32m      2\u001b[0m \u001b[0mprint\u001b[0m\u001b[0;34m(\u001b[0m\u001b[0mmodel\u001b[0m\u001b[0;34m.\u001b[0m\u001b[0mwv\u001b[0m\u001b[0;34m.\u001b[0m\u001b[0mmost_similar\u001b[0m\u001b[0;34m(\u001b[0m\u001b[0mpositive\u001b[0m\u001b[0;34m=\u001b[0m\u001b[0;34m[\u001b[0m\u001b[0;34m'문재인'\u001b[0m\u001b[0;34m,\u001b[0m \u001b[0;34m'박근혜'\u001b[0m\u001b[0;34m]\u001b[0m\u001b[0;34m,\u001b[0m \u001b[0mnegative\u001b[0m\u001b[0;34m=\u001b[0m\u001b[0;34m[\u001b[0m\u001b[0;34m'노무현'\u001b[0m\u001b[0;34m]\u001b[0m\u001b[0;34m)\u001b[0m\u001b[0;34m)\u001b[0m\u001b[0;34m\u001b[0m\u001b[0m\n\u001b[0;32m----> 3\u001b[0;31m \u001b[0mprint\u001b[0m\u001b[0;34m(\u001b[0m\u001b[0mmodel\u001b[0m\u001b[0;34m.\u001b[0m\u001b[0mwv\u001b[0m\u001b[0;34m.\u001b[0m\u001b[0mdoesnt_match\u001b[0m\u001b[0;34m(\u001b[0m\u001b[0mtwitter\u001b[0m\u001b[0;34m.\u001b[0m\u001b[0mnouns\u001b[0m\u001b[0;34m(\u001b[0m\u001b[0;34m'박근혜는 가나다를 좋아한다'\u001b[0m\u001b[0;34m)\u001b[0m\u001b[0;34m)\u001b[0m\u001b[0;34m)\u001b[0m\u001b[0;34m\u001b[0m\u001b[0m\n\u001b[0m\u001b[1;32m      4\u001b[0m \u001b[0;31m# model.score([twitter.nouns('박근혜는 가나다를 좋아한다')])\u001b[0m\u001b[0;34m\u001b[0m\u001b[0;34m\u001b[0m\u001b[0m\n",
      "\u001b[0;31mNameError\u001b[0m: name 'twitter' is not defined"
     ]
    }
   ],
   "source": [
    "print(model.wv.similarity('미국', '일본'))\n",
    "print(model.wv.most_similar(positive=['문재인', '박근혜'], negative=['노무현']))\n",
    "# print(model.wv.doesnt_match(twitter.nouns('박근혜는 가나다를 좋아한다')))\n",
    "# model.score([twitter.nouns('박근혜는 가나다를 좋아한다')])"
   ]
  },
  {
   "cell_type": "code",
   "execution_count": null,
   "metadata": {
    "collapsed": true
   },
   "outputs": [],
   "source": [
    "new_model = gensim.models.Word2Vec.load('dict_data/w2v_model_wiki_kor')"
   ]
  },
  {
   "cell_type": "code",
   "execution_count": null,
   "metadata": {
    "collapsed": false
   },
   "outputs": [],
   "source": [
    "print(new_model.wv.similarity('미국', '일본'))"
   ]
  },
  {
   "cell_type": "code",
   "execution_count": null,
   "metadata": {
    "collapsed": true
   },
   "outputs": [],
   "source": []
  }
 ],
 "metadata": {
  "kernelspec": {
   "display_name": "Python 3",
   "language": "python",
   "name": "python3"
  },
  "language_info": {
   "codemirror_mode": {
    "name": "ipython",
    "version": 3
   },
   "file_extension": ".py",
   "mimetype": "text/x-python",
   "name": "python",
   "nbconvert_exporter": "python",
   "pygments_lexer": "ipython3",
   "version": "3.5.3"
  }
 },
 "nbformat": 4,
 "nbformat_minor": 2
}
